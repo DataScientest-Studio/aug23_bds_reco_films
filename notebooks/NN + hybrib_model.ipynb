{
 "cells": [
  {
   "cell_type": "code",
   "execution_count": 252,
   "metadata": {},
   "outputs": [],
   "source": [
    "import numpy as np\n",
    "import requests, zipfile, io\n",
    "import seaborn as sns\n",
    "import matplotlib.pyplot as plt\n",
    "import pandas as pd\n",
    "import scipy.sparse as sp\n",
    "from scipy.sparse.linalg import svds\n",
    "from sklearn.metrics.pairwise import linear_kernel\n",
    "\n"
   ]
  },
  {
   "cell_type": "code",
   "execution_count": 253,
   "metadata": {},
   "outputs": [],
   "source": [
    "import numpy as np\n",
    "import requests, zipfile, io\n",
    "import pandas as pd\n",
    "\n",
    "\n",
    "def get_data(url,movies, ratings):\n",
    "    r = requests.get(url)\n",
    "    z = zipfile.ZipFile(io.BytesIO(r.content))\n",
    "    z.extractall()\n",
    "\n",
    "    movies = pd.read_csv(movies)\n",
    "    ratings = pd.read_csv(ratings)\n",
    "    return movies, ratings"
   ]
  },
  {
   "cell_type": "code",
   "execution_count": 254,
   "metadata": {},
   "outputs": [],
   "source": [
    "url = \"https://files.grouplens.org/datasets/movielens/ml-20m.zip\""
   ]
  },
  {
   "cell_type": "code",
   "execution_count": 255,
   "metadata": {},
   "outputs": [],
   "source": [
    "movies, ratings = get_data(url ,'ml-20m/movies.csv', 'ml-20m/ratings.csv' )"
   ]
  },
  {
   "cell_type": "code",
   "execution_count": 256,
   "metadata": {},
   "outputs": [],
   "source": [
    "liste = list(ratings.groupby('userId').agg('count').sort_values(by = 'rating', ascending = False)[:1500].index)"
   ]
  },
  {
   "cell_type": "code",
   "execution_count": 262,
   "metadata": {},
   "outputs": [],
   "source": [
    "ratings_reduced = ratings[ratings['userId'].isin(liste)]"
   ]
  },
  {
   "cell_type": "code",
   "execution_count": 263,
   "metadata": {},
   "outputs": [],
   "source": [
    "movie_stats = ratings.groupby('movieId')[['rating']].agg(['count', 'mean'])\n",
    "movie_stats.columns = movie_stats.columns.droplevel()"
   ]
  },
  {
   "cell_type": "code",
   "execution_count": 264,
   "metadata": {},
   "outputs": [],
   "source": [
    "C = movie_stats['count'].mean()\n",
    "m = movie_stats['mean'].mean()"
   ]
  },
  {
   "cell_type": "code",
   "execution_count": 265,
   "metadata": {},
   "outputs": [],
   "source": [
    "def bayesian_avg(ratings):\n",
    "    bayesian_avg = (C*m+ratings.sum())/(C+ratings.count())\n",
    "    return bayesian_avg"
   ]
  },
  {
   "cell_type": "code",
   "execution_count": 266,
   "metadata": {},
   "outputs": [],
   "source": [
    "bayesian_avg_ratings = ratings.groupby(['movieId'])['rating'].agg(bayesian_avg).reset_index()\n",
    "bayesian_avg_ratings.columns = ['movieId', 'bayesian_avg']\n",
    "movie_stats = movie_stats.merge(bayesian_avg_ratings, on='movieId')\n"
   ]
  },
  {
   "cell_type": "code",
   "execution_count": 267,
   "metadata": {},
   "outputs": [],
   "source": [
    "movie_stats = movie_stats.merge(movies['movieId'])\n",
    "best_movies_sorted = movie_stats.sort_values('bayesian_avg', ascending=False)"
   ]
  },
  {
   "cell_type": "code",
   "execution_count": 268,
   "metadata": {},
   "outputs": [
    {
     "data": {
      "text/html": [
       "<div>\n",
       "<style scoped>\n",
       "    .dataframe tbody tr th:only-of-type {\n",
       "        vertical-align: middle;\n",
       "    }\n",
       "\n",
       "    .dataframe tbody tr th {\n",
       "        vertical-align: top;\n",
       "    }\n",
       "\n",
       "    .dataframe thead th {\n",
       "        text-align: right;\n",
       "    }\n",
       "</style>\n",
       "<table border=\"1\" class=\"dataframe\">\n",
       "  <thead>\n",
       "    <tr style=\"text-align: right;\">\n",
       "      <th></th>\n",
       "      <th>movieId</th>\n",
       "      <th>title</th>\n",
       "      <th>genres</th>\n",
       "      <th>count</th>\n",
       "      <th>mean</th>\n",
       "      <th>bayesian_avg</th>\n",
       "    </tr>\n",
       "  </thead>\n",
       "  <tbody>\n",
       "    <tr>\n",
       "      <th>0</th>\n",
       "      <td>318</td>\n",
       "      <td>Shawshank Redemption, The (1994)</td>\n",
       "      <td>Crime|Drama</td>\n",
       "      <td>63366</td>\n",
       "      <td>4.446990</td>\n",
       "      <td>4.431666</td>\n",
       "    </tr>\n",
       "    <tr>\n",
       "      <th>1</th>\n",
       "      <td>858</td>\n",
       "      <td>Godfather, The (1972)</td>\n",
       "      <td>Crime|Drama</td>\n",
       "      <td>41355</td>\n",
       "      <td>4.364732</td>\n",
       "      <td>4.342857</td>\n",
       "    </tr>\n",
       "    <tr>\n",
       "      <th>2</th>\n",
       "      <td>50</td>\n",
       "      <td>Usual Suspects, The (1995)</td>\n",
       "      <td>Crime|Mystery|Thriller</td>\n",
       "      <td>47006</td>\n",
       "      <td>4.334372</td>\n",
       "      <td>4.315561</td>\n",
       "    </tr>\n",
       "    <tr>\n",
       "      <th>3</th>\n",
       "      <td>527</td>\n",
       "      <td>Schindler's List (1993)</td>\n",
       "      <td>Drama|War</td>\n",
       "      <td>50054</td>\n",
       "      <td>4.310175</td>\n",
       "      <td>4.292849</td>\n",
       "    </tr>\n",
       "    <tr>\n",
       "      <th>4</th>\n",
       "      <td>1221</td>\n",
       "      <td>Godfather: Part II, The (1974)</td>\n",
       "      <td>Crime|Drama</td>\n",
       "      <td>27398</td>\n",
       "      <td>4.275641</td>\n",
       "      <td>4.245286</td>\n",
       "    </tr>\n",
       "  </tbody>\n",
       "</table>\n",
       "</div>"
      ],
      "text/plain": [
       "   movieId                             title                  genres  count  \\\n",
       "0      318  Shawshank Redemption, The (1994)             Crime|Drama  63366   \n",
       "1      858             Godfather, The (1972)             Crime|Drama  41355   \n",
       "2       50        Usual Suspects, The (1995)  Crime|Mystery|Thriller  47006   \n",
       "3      527           Schindler's List (1993)               Drama|War  50054   \n",
       "4     1221    Godfather: Part II, The (1974)             Crime|Drama  27398   \n",
       "\n",
       "       mean  bayesian_avg  \n",
       "0  4.446990      4.431666  \n",
       "1  4.364732      4.342857  \n",
       "2  4.334372      4.315561  \n",
       "3  4.310175      4.292849  \n",
       "4  4.275641      4.245286  "
      ]
     },
     "execution_count": 268,
     "metadata": {},
     "output_type": "execute_result"
    }
   ],
   "source": [
    "movies_reduced = movies.merge(right = best_movies_sorted[:1500], on = 'movieId', how = 'right')\n",
    "movies_reduced.head()"
   ]
  },
  {
   "cell_type": "code",
   "execution_count": 269,
   "metadata": {},
   "outputs": [],
   "source": [
    "df = ratings_reduced\n",
    "df = pd.merge(df, movies_reduced, on = 'movieId')"
   ]
  },
  {
   "cell_type": "code",
   "execution_count": 270,
   "metadata": {},
   "outputs": [
    {
     "data": {
      "text/html": [
       "<div>\n",
       "<style scoped>\n",
       "    .dataframe tbody tr th:only-of-type {\n",
       "        vertical-align: middle;\n",
       "    }\n",
       "\n",
       "    .dataframe tbody tr th {\n",
       "        vertical-align: top;\n",
       "    }\n",
       "\n",
       "    .dataframe thead th {\n",
       "        text-align: right;\n",
       "    }\n",
       "</style>\n",
       "<table border=\"1\" class=\"dataframe\">\n",
       "  <thead>\n",
       "    <tr style=\"text-align: right;\">\n",
       "      <th></th>\n",
       "      <th>userId</th>\n",
       "      <th>movieId</th>\n",
       "      <th>rating</th>\n",
       "      <th>timestamp</th>\n",
       "      <th>title</th>\n",
       "      <th>genres</th>\n",
       "      <th>count</th>\n",
       "      <th>mean</th>\n",
       "      <th>bayesian_avg</th>\n",
       "    </tr>\n",
       "  </thead>\n",
       "  <tbody>\n",
       "    <tr>\n",
       "      <th>0</th>\n",
       "      <td>116</td>\n",
       "      <td>1</td>\n",
       "      <td>3.0</td>\n",
       "      <td>1132711617</td>\n",
       "      <td>Toy Story (1995)</td>\n",
       "      <td>Adventure|Animation|Children|Comedy|Fantasy</td>\n",
       "      <td>49695</td>\n",
       "      <td>3.92124</td>\n",
       "      <td>3.909556</td>\n",
       "    </tr>\n",
       "    <tr>\n",
       "      <th>1</th>\n",
       "      <td>156</td>\n",
       "      <td>1</td>\n",
       "      <td>5.0</td>\n",
       "      <td>1037739266</td>\n",
       "      <td>Toy Story (1995)</td>\n",
       "      <td>Adventure|Animation|Children|Comedy|Fantasy</td>\n",
       "      <td>49695</td>\n",
       "      <td>3.92124</td>\n",
       "      <td>3.909556</td>\n",
       "    </tr>\n",
       "    <tr>\n",
       "      <th>2</th>\n",
       "      <td>208</td>\n",
       "      <td>1</td>\n",
       "      <td>4.0</td>\n",
       "      <td>940786662</td>\n",
       "      <td>Toy Story (1995)</td>\n",
       "      <td>Adventure|Animation|Children|Comedy|Fantasy</td>\n",
       "      <td>49695</td>\n",
       "      <td>3.92124</td>\n",
       "      <td>3.909556</td>\n",
       "    </tr>\n",
       "    <tr>\n",
       "      <th>3</th>\n",
       "      <td>298</td>\n",
       "      <td>1</td>\n",
       "      <td>4.0</td>\n",
       "      <td>992380086</td>\n",
       "      <td>Toy Story (1995)</td>\n",
       "      <td>Adventure|Animation|Children|Comedy|Fantasy</td>\n",
       "      <td>49695</td>\n",
       "      <td>3.92124</td>\n",
       "      <td>3.909556</td>\n",
       "    </tr>\n",
       "    <tr>\n",
       "      <th>4</th>\n",
       "      <td>359</td>\n",
       "      <td>1</td>\n",
       "      <td>5.0</td>\n",
       "      <td>1067183252</td>\n",
       "      <td>Toy Story (1995)</td>\n",
       "      <td>Adventure|Animation|Children|Comedy|Fantasy</td>\n",
       "      <td>49695</td>\n",
       "      <td>3.92124</td>\n",
       "      <td>3.909556</td>\n",
       "    </tr>\n",
       "  </tbody>\n",
       "</table>\n",
       "</div>"
      ],
      "text/plain": [
       "   userId  movieId  rating   timestamp             title  \\\n",
       "0     116        1     3.0  1132711617  Toy Story (1995)   \n",
       "1     156        1     5.0  1037739266  Toy Story (1995)   \n",
       "2     208        1     4.0   940786662  Toy Story (1995)   \n",
       "3     298        1     4.0   992380086  Toy Story (1995)   \n",
       "4     359        1     5.0  1067183252  Toy Story (1995)   \n",
       "\n",
       "                                        genres  count     mean  bayesian_avg  \n",
       "0  Adventure|Animation|Children|Comedy|Fantasy  49695  3.92124      3.909556  \n",
       "1  Adventure|Animation|Children|Comedy|Fantasy  49695  3.92124      3.909556  \n",
       "2  Adventure|Animation|Children|Comedy|Fantasy  49695  3.92124      3.909556  \n",
       "3  Adventure|Animation|Children|Comedy|Fantasy  49695  3.92124      3.909556  \n",
       "4  Adventure|Animation|Children|Comedy|Fantasy  49695  3.92124      3.909556  "
      ]
     },
     "execution_count": 270,
     "metadata": {},
     "output_type": "execute_result"
    }
   ],
   "source": [
    "df.head()"
   ]
  },
  {
   "cell_type": "code",
   "execution_count": 271,
   "metadata": {},
   "outputs": [],
   "source": [
    "n_users = df.userId.nunique()\n",
    "n_items = df.movieId.nunique()"
   ]
  },
  {
   "cell_type": "code",
   "execution_count": 272,
   "metadata": {},
   "outputs": [],
   "source": [
    "liste_itemid = list(df.movieId.unique())\n",
    "new_itemid = [i for i in range(len(df.movieId.unique()))]\n",
    "dico_item = dict(zip(liste_itemid, new_itemid))"
   ]
  },
  {
   "cell_type": "code",
   "execution_count": 273,
   "metadata": {},
   "outputs": [],
   "source": [
    "liste_userid = list(df.userId.unique())\n",
    "new_userid = [i for i in range(len(df.userId.unique()))]\n",
    "dico_user = dict(zip(liste_userid, new_userid))"
   ]
  },
  {
   "cell_type": "code",
   "execution_count": 274,
   "metadata": {},
   "outputs": [],
   "source": [
    "df['new_itemid'] = df.movieId.apply(lambda x : dico_item[x])\n",
    "df['new_userid'] = df.userId.apply(lambda x : dico_user[x])"
   ]
  },
  {
   "cell_type": "code",
   "execution_count": 275,
   "metadata": {},
   "outputs": [],
   "source": [
    "df = df.reindex(columns=[\"new_itemid\",\"new_userid\", \"rating\", \"timestamp\", \"title\", \"movieId\", \"userId\"])"
   ]
  },
  {
   "cell_type": "code",
   "execution_count": 276,
   "metadata": {},
   "outputs": [
    {
     "data": {
      "text/html": [
       "<div>\n",
       "<style scoped>\n",
       "    .dataframe tbody tr th:only-of-type {\n",
       "        vertical-align: middle;\n",
       "    }\n",
       "\n",
       "    .dataframe tbody tr th {\n",
       "        vertical-align: top;\n",
       "    }\n",
       "\n",
       "    .dataframe thead th {\n",
       "        text-align: right;\n",
       "    }\n",
       "</style>\n",
       "<table border=\"1\" class=\"dataframe\">\n",
       "  <thead>\n",
       "    <tr style=\"text-align: right;\">\n",
       "      <th></th>\n",
       "      <th>new_itemid</th>\n",
       "      <th>new_userid</th>\n",
       "      <th>rating</th>\n",
       "      <th>timestamp</th>\n",
       "      <th>title</th>\n",
       "      <th>movieId</th>\n",
       "      <th>userId</th>\n",
       "    </tr>\n",
       "  </thead>\n",
       "  <tbody>\n",
       "    <tr>\n",
       "      <th>0</th>\n",
       "      <td>0</td>\n",
       "      <td>0</td>\n",
       "      <td>3.0</td>\n",
       "      <td>1132711617</td>\n",
       "      <td>Toy Story (1995)</td>\n",
       "      <td>1</td>\n",
       "      <td>116</td>\n",
       "    </tr>\n",
       "    <tr>\n",
       "      <th>1</th>\n",
       "      <td>0</td>\n",
       "      <td>1</td>\n",
       "      <td>5.0</td>\n",
       "      <td>1037739266</td>\n",
       "      <td>Toy Story (1995)</td>\n",
       "      <td>1</td>\n",
       "      <td>156</td>\n",
       "    </tr>\n",
       "    <tr>\n",
       "      <th>2</th>\n",
       "      <td>0</td>\n",
       "      <td>2</td>\n",
       "      <td>4.0</td>\n",
       "      <td>940786662</td>\n",
       "      <td>Toy Story (1995)</td>\n",
       "      <td>1</td>\n",
       "      <td>208</td>\n",
       "    </tr>\n",
       "    <tr>\n",
       "      <th>3</th>\n",
       "      <td>0</td>\n",
       "      <td>3</td>\n",
       "      <td>4.0</td>\n",
       "      <td>992380086</td>\n",
       "      <td>Toy Story (1995)</td>\n",
       "      <td>1</td>\n",
       "      <td>298</td>\n",
       "    </tr>\n",
       "    <tr>\n",
       "      <th>4</th>\n",
       "      <td>0</td>\n",
       "      <td>4</td>\n",
       "      <td>5.0</td>\n",
       "      <td>1067183252</td>\n",
       "      <td>Toy Story (1995)</td>\n",
       "      <td>1</td>\n",
       "      <td>359</td>\n",
       "    </tr>\n",
       "  </tbody>\n",
       "</table>\n",
       "</div>"
      ],
      "text/plain": [
       "   new_itemid  new_userid  rating   timestamp             title  movieId  \\\n",
       "0           0           0     3.0  1132711617  Toy Story (1995)        1   \n",
       "1           0           1     5.0  1037739266  Toy Story (1995)        1   \n",
       "2           0           2     4.0   940786662  Toy Story (1995)        1   \n",
       "3           0           3     4.0   992380086  Toy Story (1995)        1   \n",
       "4           0           4     5.0  1067183252  Toy Story (1995)        1   \n",
       "\n",
       "   userId  \n",
       "0     116  \n",
       "1     156  \n",
       "2     208  \n",
       "3     298  \n",
       "4     359  "
      ]
     },
     "execution_count": 276,
     "metadata": {},
     "output_type": "execute_result"
    }
   ],
   "source": [
    "df.head()"
   ]
  },
  {
   "cell_type": "code",
   "execution_count": 277,
   "metadata": {},
   "outputs": [],
   "source": [
    "count_ratings = df.groupby('rating').count()\n",
    "count_ratings['perc_total']=round(count_ratings['new_userid']*100/count_ratings['new_userid'].sum(),1)"
   ]
  },
  {
   "cell_type": "code",
   "execution_count": 278,
   "metadata": {},
   "outputs": [
    {
     "data": {
      "text/plain": [
       "<Axes: xlabel='rating'>"
      ]
     },
     "execution_count": 278,
     "metadata": {},
     "output_type": "execute_result"
    },
    {
     "data": {
      "image/png": "[encoded data removed]",
      "text/plain": [
       "<Figure size 640x480 with 1 Axes>"
      ]
     },
     "metadata": {},
     "output_type": "display_data"
    }
   ],
   "source": [
    "count_ratings['perc_total'].plot.bar()"
   ]
  },
  {
   "cell_type": "markdown",
   "metadata": {},
   "source": [
    "Movie matrix with genres"
   ]
  },
  {
   "cell_type": "code",
   "execution_count": 280,
   "metadata": {},
   "outputs": [],
   "source": [
    "def movies_with_genres(movies):\n",
    "    genre_list = \"\"\n",
    "    for index,row in movies.iterrows():\n",
    "            genre_list += row.genres + \"|\"\n",
    "    genre_list_split = genre_list.split('|')\n",
    "    new_list = list(set(genre_list_split))\n",
    "    new_list.remove('')\n",
    "\n",
    "    movies_with_genres = movies.copy()\n",
    "    for genre in new_list :\n",
    "        movies_with_genres[genre] = movies_with_genres.apply(lambda _:int(genre in _.genres), axis = 1)\n",
    "    \n",
    "    return movies_with_genres"
   ]
  },
  {
   "cell_type": "markdown",
   "metadata": {},
   "source": [
    "Similarity matrix"
   ]
  },
  {
   "cell_type": "code",
   "execution_count": 283,
   "metadata": {},
   "outputs": [],
   "source": [
    "# sim matrice\n",
    "def get_sim_matrice_index(movie):\n",
    "    movies_genres = movies_with_genres(movie)\n",
    "\n",
    "    movie_content_df_temp = movies_genres.loc[movies_genres['movieId'].isin(df['movieId'])]\n",
    "    movie_content_df_temp.set_index('movieId')\n",
    "    movie_content_df = movie_content_df_temp.drop(columns = ['movieId','title','genres'])\n",
    "    movie_content_df = movie_content_df.values\n",
    "    return linear_kernel(movie_content_df,movie_content_df), pd.Series(movie_content_df_temp.index, movie_content_df_temp['title'])"
   ]
  },
  {
   "cell_type": "code",
   "execution_count": 284,
   "metadata": {},
   "outputs": [],
   "source": [
    "sim , index = get_sim_matrice_index(movies_reduced) # old index "
   ]
  },
  {
   "cell_type": "markdown",
   "metadata": {},
   "source": [
    "Neural network with input = user id , movie id"
   ]
  },
  {
   "cell_type": "code",
   "execution_count": 356,
   "metadata": {},
   "outputs": [],
   "source": [
    "import tensorflow as tf\n",
    "import keras\n",
    "\n",
    "from tensorflow.keras.models import Sequential, Model\n",
    "from tensorflow.keras.layers import Activation, Dense, Dropout, Concatenate, Dot\n",
    "from tensorflow.keras.layers import BatchNormalization, Input, Lambda\n",
    "from tensorflow.keras.layers import Embedding, Flatten\n",
    "from tensorflow.keras.losses import mse\n",
    "from tensorflow.keras.utils import plot_model\n",
    "from keras.models import load_model"
   ]
  },
  {
   "cell_type": "code",
   "execution_count": 287,
   "metadata": {},
   "outputs": [],
   "source": [
    "from keras.layers import Concatenate\n",
    "from keras.constraints import Constraint\n",
    "\n",
    "\n",
    "class MinMaxConstraint(Constraint):\n",
    "    \n",
    "    def __init__(self, x_min=0.1, x_max=1.0):\n",
    "        super().__init__()\n",
    "        self.x_min = x_min\n",
    "        self.x_max = x_max\n",
    "\n",
    "\n",
    "    def __call__(self, w):\n",
    "        w_min = tf.minimum(tf.math.reduce_min(w), self.x_min)\n",
    "        w_max = tf.maximum(tf.math.reduce_max(w), self.x_max)\n",
    "        scale = (self.x_max - self.x_min) / (w_max - w_min)\n",
    "        m = self.x_min - w_min * scale\n",
    "        w = w * scale\n",
    "        return w + m\n",
    "\n",
    "    def get_config(self):\n",
    "        base_config = super().get_config()\n",
    "        config = {\n",
    "            \"x_min\": keras.saving.serialize_keras_object(self.x_min),\n",
    "            \"x_max\": keras.saving.serialize_keras_object(self.x_max),\n",
    "        }\n",
    "        return {**base_config, **config}\n",
    "\n",
    "    @classmethod\n",
    "    def from_config(cls, config):\n",
    "        min_config = config.pop(\"x_min\")\n",
    "        x_min = keras.saving.deserialize_keras_object(min_config)\n",
    "        max_config = config.pop(\"x_max\")\n",
    "        x_max = keras.saving.deserialize_keras_object(max_config)\n",
    "        return cls(x_min,x_max, **config)"
   ]
  },
  {
   "cell_type": "code",
   "execution_count": 288,
   "metadata": {},
   "outputs": [],
   "source": [
    "from keras.optimizers import Adam\n",
    "from tensorflow.keras.callbacks import ReduceLROnPlateau, EarlyStopping, LearningRateScheduler\n",
    "\n",
    "reduceLr = ReduceLROnPlateau(monitor = 'val_metric_rating',\n",
    "                             patience=3,\n",
    "                             factor = 0.9,\n",
    "                             verbose=2,\n",
    "                             mode='min')\n",
    "\n",
    "reduceLr2 = ReduceLROnPlateau(monitor = 'val_loss',\n",
    "                             patience=3,\n",
    "                             factor = 0.5,\n",
    "                             verbose=2,\n",
    "                             mode='min')\n",
    "\n",
    "\n",
    "early_stopping = EarlyStopping(monitor = 'val_loss',\n",
    "                                        patience = 5,\n",
    "                                        mode = 'min',\n",
    "                                        restore_best_weights = True)\n"
   ]
  },
  {
   "cell_type": "code",
   "execution_count": 289,
   "metadata": {},
   "outputs": [],
   "source": [
    "@keras.saving.register_keras_serializable()\n",
    "def metric_rating(y_true, y_pred):\n",
    "    return tf.keras.metrics.MAE(y_true, y_pred) * 5"
   ]
  },
  {
   "cell_type": "code",
   "execution_count": 290,
   "metadata": {},
   "outputs": [
    {
     "data": {
      "text/plain": [
       "(1500, 1500)"
      ]
     },
     "execution_count": 290,
     "metadata": {},
     "output_type": "execute_result"
    }
   ],
   "source": [
    "len(df.new_userid.unique()), len(df.new_itemid.unique())"
   ]
  },
  {
   "cell_type": "code",
   "execution_count": 291,
   "metadata": {},
   "outputs": [],
   "source": [
    "df.rating = df.rating/df.rating.max()"
   ]
  },
  {
   "cell_type": "code",
   "execution_count": 292,
   "metadata": {},
   "outputs": [],
   "source": [
    "df.new_userid = df.new_userid.astype('category').cat.codes.values\n",
    "df.new_itemid = df.new_itemid.astype('category').cat.codes.values"
   ]
  },
  {
   "cell_type": "code",
   "execution_count": 293,
   "metadata": {},
   "outputs": [],
   "source": [
    "def split_data_ml100k(data, num_users, num_items, test_ratio):\n",
    "    mask = [True if x == 1 else False for x in np.random.uniform(\n",
    "            0, 1, (len(data))) < 1 - test_ratio]\n",
    "    neg_mask = [not x for x in mask]\n",
    "    train_data, test_data = data[mask], data[neg_mask]\n",
    "    return train_data, test_data"
   ]
  },
  {
   "cell_type": "code",
   "execution_count": 294,
   "metadata": {},
   "outputs": [],
   "source": [
    "n_users = df.new_userid.nunique()\n",
    "n_items = df.new_itemid.nunique()"
   ]
  },
  {
   "cell_type": "code",
   "execution_count": 295,
   "metadata": {},
   "outputs": [],
   "source": [
    "train, test = split_data_ml100k(df, n_users, n_items,0.3)"
   ]
  },
  {
   "cell_type": "code",
   "execution_count": 297,
   "metadata": {},
   "outputs": [],
   "source": [
    "def nn_model(n_latent_factors_user, n_latent_factors_movie):\n",
    "\n",
    "    movie_input = Input(shape=[1],name='Item')\n",
    "    movie_embedding = Embedding(n_items+1 , n_latent_factors_movie,\n",
    "                                             name='Embedding_Movie')(movie_input)\n",
    "    movie_vec = Flatten(name='Flatten_Movies')(movie_embedding)\n",
    "\n",
    "    user_input = Input(shape=[1],name='User')\n",
    "    movie_embedding = Embedding(n_users+1 , n_latent_factors_user,\n",
    "                                             name='Embedding_User')(user_input)\n",
    "    user_vec = Flatten(name='Flatten_Users')(movie_embedding)\n",
    "\n",
    "\n",
    "    concatted  = Concatenate([movie_vec, user_vec])\n",
    "\n",
    "\n",
    "    dense_1 = Dense((n_latent_factors_user + n_latent_factors_movie) * 0.6 ,name='Dense_1', activation='relu')(concatted)\n",
    "    \n",
    "    result = keras.layers.Dense(1, activation='sigmoid',kernel_constraint=MinMaxConstraint(),name='Output')(dense_1)\n",
    "  \n",
    "    model = keras.Model([user_input, movie_input], result)\n",
    "    model.compile(optimizer=\"adam\", loss=\"mse\",metrics = metric_rating)\n",
    "    return model"
   ]
  },
  {
   "cell_type": "code",
   "execution_count": 298,
   "metadata": {},
   "outputs": [],
   "source": [
    "model = nn_model(50,50)"
   ]
  },
  {
   "cell_type": "code",
   "execution_count": 299,
   "metadata": {},
   "outputs": [
    {
     "name": "stdout",
     "output_type": "stream",
     "text": [
      "You must install pydot (`pip install pydot`) and install graphviz (see instructions at https://graphviz.gitlab.io/download/) for plot_model to work.\n"
     ]
    }
   ],
   "source": [
    "plot_model(model, show_shapes=True)"
   ]
  },
  {
   "cell_type": "code",
   "execution_count": 300,
   "metadata": {},
   "outputs": [
    {
     "name": "stdout",
     "output_type": "stream",
     "text": [
      "Epoch 1/20\n",
      "9686/9686 [==============================] - 24s 2ms/step - loss: 0.0251 - metric_rating: 0.6032 - val_loss: 0.0271 - val_metric_rating: 0.6405 - lr: 0.0010\n",
      "Epoch 2/20\n",
      "9686/9686 [==============================] - 23s 2ms/step - loss: 0.0230 - metric_rating: 0.5761 - val_loss: 0.0281 - val_metric_rating: 0.6553 - lr: 0.0010\n",
      "Epoch 3/20\n",
      "9686/9686 [==============================] - 23s 2ms/step - loss: 0.0219 - metric_rating: 0.5615 - val_loss: 0.0331 - val_metric_rating: 0.7304 - lr: 0.0010\n",
      "Epoch 4/20\n",
      "9684/9686 [============================>.] - ETA: 0s - loss: 0.0210 - metric_rating: 0.5502\n",
      "Epoch 4: ReduceLROnPlateau reducing learning rate to 0.0005000000237487257.\n",
      "9686/9686 [==============================] - 23s 2ms/step - loss: 0.0210 - metric_rating: 0.5502 - val_loss: 0.0375 - val_metric_rating: 0.7885 - lr: 0.0010\n",
      "Epoch 5/20\n",
      "9686/9686 [==============================] - 23s 2ms/step - loss: 0.0195 - metric_rating: 0.5294 - val_loss: 0.0430 - val_metric_rating: 0.8555 - lr: 5.0000e-04\n",
      "Epoch 6/20\n",
      "9686/9686 [==============================] - 23s 2ms/step - loss: 0.0189 - metric_rating: 0.5209 - val_loss: 0.0500 - val_metric_rating: 0.9405 - lr: 5.0000e-04\n"
     ]
    }
   ],
   "source": [
    "history_model= model.fit([train.new_userid, train.new_itemid], train.rating, validation_split = 0.2,\n",
    "                                     callbacks = [reduceLr2,early_stopping],\n",
    "                                     epochs=20,batch_size = 50, verbose=1)"
   ]
  },
  {
   "cell_type": "code",
   "execution_count": 301,
   "metadata": {},
   "outputs": [],
   "source": [
    "model.save('nn1.keras')"
   ]
  },
  {
   "cell_type": "code",
   "execution_count": 378,
   "metadata": {},
   "outputs": [],
   "source": [
    "nn1 = tf.keras.saving.load_model('nn1.keras', custom_objects={'MinMaxConstraint': MinMaxConstraint})"
   ]
  },
  {
   "cell_type": "code",
   "execution_count": 306,
   "metadata": {},
   "outputs": [
    {
     "name": "stdout",
     "output_type": "stream",
     "text": [
      "8101/8101 [==============================] - 8s 991us/step\n"
     ]
    }
   ],
   "source": [
    "y_pred = model1.predict([test.new_userid, test.new_itemid]) * 5"
   ]
  },
  {
   "cell_type": "code",
   "execution_count": 307,
   "metadata": {},
   "outputs": [
    {
     "data": {
      "text/html": [
       "<div>\n",
       "<style scoped>\n",
       "    .dataframe tbody tr th:only-of-type {\n",
       "        vertical-align: middle;\n",
       "    }\n",
       "\n",
       "    .dataframe tbody tr th {\n",
       "        vertical-align: top;\n",
       "    }\n",
       "\n",
       "    .dataframe thead th {\n",
       "        text-align: right;\n",
       "    }\n",
       "</style>\n",
       "<table border=\"1\" class=\"dataframe\">\n",
       "  <thead>\n",
       "    <tr style=\"text-align: right;\">\n",
       "      <th></th>\n",
       "      <th>0</th>\n",
       "    </tr>\n",
       "  </thead>\n",
       "  <tbody>\n",
       "    <tr>\n",
       "      <th>count</th>\n",
       "      <td>259211.000000</td>\n",
       "    </tr>\n",
       "    <tr>\n",
       "      <th>mean</th>\n",
       "      <td>3.649957</td>\n",
       "    </tr>\n",
       "    <tr>\n",
       "      <th>std</th>\n",
       "      <td>0.454248</td>\n",
       "    </tr>\n",
       "    <tr>\n",
       "      <th>min</th>\n",
       "      <td>2.321806</td>\n",
       "    </tr>\n",
       "    <tr>\n",
       "      <th>25%</th>\n",
       "      <td>3.347209</td>\n",
       "    </tr>\n",
       "    <tr>\n",
       "      <th>50%</th>\n",
       "      <td>3.665144</td>\n",
       "    </tr>\n",
       "    <tr>\n",
       "      <th>75%</th>\n",
       "      <td>3.970783</td>\n",
       "    </tr>\n",
       "    <tr>\n",
       "      <th>max</th>\n",
       "      <td>4.965224</td>\n",
       "    </tr>\n",
       "  </tbody>\n",
       "</table>\n",
       "</div>"
      ],
      "text/plain": [
       "                   0\n",
       "count  259211.000000\n",
       "mean        3.649957\n",
       "std         0.454248\n",
       "min         2.321806\n",
       "25%         3.347209\n",
       "50%         3.665144\n",
       "75%         3.970783\n",
       "max         4.965224"
      ]
     },
     "execution_count": 307,
     "metadata": {},
     "output_type": "execute_result"
    }
   ],
   "source": [
    "pd.DataFrame(y_pred).describe()"
   ]
  },
  {
   "cell_type": "code",
   "execution_count": 308,
   "metadata": {},
   "outputs": [
    {
     "data": {
      "text/plain": [
       "0.5978703612406276"
      ]
     },
     "execution_count": 308,
     "metadata": {},
     "output_type": "execute_result"
    }
   ],
   "source": [
    "from sklearn.metrics import mean_absolute_error\n",
    "\n",
    "y_true = test.rating\n",
    "mean_absolute_error(y_true * 5, y_pred)"
   ]
  },
  {
   "cell_type": "code",
   "execution_count": 310,
   "metadata": {},
   "outputs": [],
   "source": [
    "train_loss = history_model.history[\"loss\"]\n",
    "val_loss = history_model.history[\"val_loss\"]\n",
    "train_acc = history_model.history[\"metric_rating\"]\n",
    "val_acc = history_model.history[\"val_metric_rating\"]"
   ]
  },
  {
   "cell_type": "code",
   "execution_count": 311,
   "metadata": {},
   "outputs": [
    {
     "data": {
      "image/png": "[encoded data removed]",
      "text/plain": [
       "<Figure size 2000x800 with 2 Axes>"
      ]
     },
     "metadata": {},
     "output_type": "display_data"
    }
   ],
   "source": [
    "plt.figure(figsize = (20, 8))\n",
    "\n",
    "plt.subplot(121)\n",
    "plt.plot(train_loss)\n",
    "plt.plot(val_loss)\n",
    "plt.title('Model loss per epoch (MSE)')\n",
    "plt.ylabel('loss')\n",
    "plt.xlabel('epoch')\n",
    "plt.legend(['train', 'test'], loc='right')\n",
    "\n",
    "plt.subplot(122)\n",
    "plt.plot(train_acc)\n",
    "plt.plot(val_acc)\n",
    "plt.title('Model accuracy per epoch (MAE)')\n",
    "plt.ylabel('acc')\n",
    "plt.xlabel('epoch')\n",
    "plt.legend(['train', 'test'], loc='right')\n",
    "\n",
    "plt.show()"
   ]
  },
  {
   "cell_type": "code",
   "execution_count": 312,
   "metadata": {},
   "outputs": [
    {
     "data": {
      "image/png": "[encoded data removed]",
      "text/plain": [
       "<Figure size 640x480 with 1 Axes>"
      ]
     },
     "metadata": {},
     "output_type": "display_data"
    }
   ],
   "source": [
    "a = plt.axes(aspect='equal')\n",
    "plt.scatter(y_true * 5, y_pred)\n",
    "plt.xlabel('True Values [rating]')\n",
    "plt.ylabel('Predictions [rating]')\n",
    "lims = [0, 5.5]\n",
    "plt.xlim(lims)\n",
    "plt.ylim(lims)\n",
    "_ = plt.plot(lims, lims)"
   ]
  },
  {
   "cell_type": "code",
   "execution_count": 313,
   "metadata": {},
   "outputs": [],
   "source": [
    "df_pred = pd.DataFrame(columns=['rating','pred'])"
   ]
  },
  {
   "cell_type": "code",
   "execution_count": 314,
   "metadata": {},
   "outputs": [
    {
     "data": {
      "text/plain": [
       "<matplotlib.legend.Legend at 0x16976948e20>"
      ]
     },
     "execution_count": 314,
     "metadata": {},
     "output_type": "execute_result"
    },
    {
     "data": {
      "image/png": "[encoded data removed]",
      "text/plain": [
       "<Figure size 640x480 with 1 Axes>"
      ]
     },
     "metadata": {},
     "output_type": "display_data"
    }
   ],
   "source": [
    "df_pred['rating'] = y_true*5\n",
    "df_pred['pred'] = y_pred\n",
    "df_pred['error'] = df_pred['rating'] - df_pred['pred']\n",
    "liste = sorted(df_pred['rating'].unique())\n",
    "\n",
    "\n",
    "for j in range(len(liste)):\n",
    "  plt.hist(df_pred.loc[df_pred['rating'] == liste[j], 'error'], alpha=0.5, label= liste[j])\n",
    "\n",
    "plt.title('error Distribution by rating')\n",
    "plt.xlabel('prediction error')\n",
    "plt.ylabel('Frequency')\n",
    "\n",
    "plt.legend(title='rating')"
   ]
  },
  {
   "cell_type": "markdown",
   "metadata": {},
   "source": [
    "Hybrid model (nn + similarity matrix)"
   ]
  },
  {
   "cell_type": "code",
   "execution_count": 376,
   "metadata": {},
   "outputs": [],
   "source": [
    "def get_hybrid_model(user_index,movie_title,cosine_sim,indicies,model) :\n",
    "    idx = indicies[movie_title]\n",
    "    sim_scores = list(enumerate(cosine_sim[int(idx)]))\n",
    "    sim_scores = sorted(sim_scores, key=lambda x: x[1], reverse=True)\n",
    "    sim_scores = sim_scores[1:10]\n",
    "    movie_indices = [i[0] for i in sim_scores]\n",
    "    movies = movies_reduced.iloc[movie_indices]\n",
    "    movies = movies.reset_index()\n",
    "    index_movies = df[['movieId','new_itemid']].drop_duplicates( keep='first')\n",
    "    movies = pd.merge(movies,index_movies, on = 'movieId')\n",
    "    movies['userId'] = user_index\n",
    "    movies['prediction_rating'] = model.predict([movies.userId, movies.new_itemid])*5\n",
    "    movies = movies.drop(['userId','movieId','new_itemid'], axis = 1)\n",
    "    return movies"
   ]
  },
  {
   "cell_type": "code",
   "execution_count": 319,
   "metadata": {},
   "outputs": [
    {
     "data": {
      "text/plain": [
       "title\n",
       "Shawshank Redemption, The (1994)                          0\n",
       "Godfather, The (1972)                                     1\n",
       "Usual Suspects, The (1995)                                2\n",
       "Schindler's List (1993)                                   3\n",
       "Godfather: Part II, The (1974)                            4\n",
       "                                                       ... \n",
       "Strawberry and Chocolate (Fresa y chocolate) (1993)    1495\n",
       "Legends of the Fall (1994)                             1496\n",
       "Mirror, The (Zerkalo) (1975)                           1497\n",
       "Spy Who Loved Me, The (1977)                           1498\n",
       "Tokyo Godfathers (2003)                                1499\n",
       "Length: 1500, dtype: int64"
      ]
     },
     "execution_count": 319,
     "metadata": {},
     "output_type": "execute_result"
    }
   ],
   "source": [
    "index"
   ]
  },
  {
   "cell_type": "code",
   "execution_count": 379,
   "metadata": {},
   "outputs": [
    {
     "name": "stdout",
     "output_type": "stream",
     "text": [
      "1/1 [==============================] - 0s 334ms/step\n"
     ]
    },
    {
     "data": {
      "text/html": [
       "<div>\n",
       "<style scoped>\n",
       "    .dataframe tbody tr th:only-of-type {\n",
       "        vertical-align: middle;\n",
       "    }\n",
       "\n",
       "    .dataframe tbody tr th {\n",
       "        vertical-align: top;\n",
       "    }\n",
       "\n",
       "    .dataframe thead th {\n",
       "        text-align: right;\n",
       "    }\n",
       "</style>\n",
       "<table border=\"1\" class=\"dataframe\">\n",
       "  <thead>\n",
       "    <tr style=\"text-align: right;\">\n",
       "      <th></th>\n",
       "      <th>index</th>\n",
       "      <th>title</th>\n",
       "      <th>genres</th>\n",
       "      <th>count</th>\n",
       "      <th>mean</th>\n",
       "      <th>bayesian_avg</th>\n",
       "      <th>prediction_rating</th>\n",
       "    </tr>\n",
       "  </thead>\n",
       "  <tbody>\n",
       "    <tr>\n",
       "      <th>0</th>\n",
       "      <td>90</td>\n",
       "      <td>Forrest Gump (1994)</td>\n",
       "      <td>Comedy|Drama|Romance|War</td>\n",
       "      <td>66172</td>\n",
       "      <td>4.029000</td>\n",
       "      <td>4.018989</td>\n",
       "      <td>3.234988</td>\n",
       "    </tr>\n",
       "    <tr>\n",
       "      <th>1</th>\n",
       "      <td>0</td>\n",
       "      <td>Shawshank Redemption, The (1994)</td>\n",
       "      <td>Crime|Drama</td>\n",
       "      <td>63366</td>\n",
       "      <td>4.446990</td>\n",
       "      <td>4.431666</td>\n",
       "      <td>3.842893</td>\n",
       "    </tr>\n",
       "    <tr>\n",
       "      <th>2</th>\n",
       "      <td>19</td>\n",
       "      <td>Silence of the Lambs, The (1991)</td>\n",
       "      <td>Crime|Horror|Thriller</td>\n",
       "      <td>63299</td>\n",
       "      <td>4.177057</td>\n",
       "      <td>4.164868</td>\n",
       "      <td>3.653421</td>\n",
       "    </tr>\n",
       "    <tr>\n",
       "      <th>3</th>\n",
       "      <td>750</td>\n",
       "      <td>Jurassic Park (1993)</td>\n",
       "      <td>Action|Adventure|Sci-Fi|Thriller</td>\n",
       "      <td>59715</td>\n",
       "      <td>3.664741</td>\n",
       "      <td>3.658166</td>\n",
       "      <td>2.917204</td>\n",
       "    </tr>\n",
       "    <tr>\n",
       "      <th>4</th>\n",
       "      <td>14</td>\n",
       "      <td>Star Wars: Episode IV - A New Hope (1977)</td>\n",
       "      <td>Action|Adventure|Sci-Fi</td>\n",
       "      <td>54502</td>\n",
       "      <td>4.190672</td>\n",
       "      <td>4.176358</td>\n",
       "      <td>3.771194</td>\n",
       "    </tr>\n",
       "    <tr>\n",
       "      <th>5</th>\n",
       "      <td>81</td>\n",
       "      <td>Braveheart (1995)</td>\n",
       "      <td>Action|Drama|War</td>\n",
       "      <td>53769</td>\n",
       "      <td>4.042534</td>\n",
       "      <td>4.030060</td>\n",
       "      <td>3.474209</td>\n",
       "    </tr>\n",
       "    <tr>\n",
       "      <th>6</th>\n",
       "      <td>176</td>\n",
       "      <td>Terminator 2: Judgment Day (1991)</td>\n",
       "      <td>Action|Sci-Fi</td>\n",
       "      <td>52244</td>\n",
       "      <td>3.931954</td>\n",
       "      <td>3.920682</td>\n",
       "      <td>3.375961</td>\n",
       "    </tr>\n",
       "    <tr>\n",
       "      <th>7</th>\n",
       "      <td>16</td>\n",
       "      <td>Matrix, The (1999)</td>\n",
       "      <td>Action|Sci-Fi|Thriller</td>\n",
       "      <td>51334</td>\n",
       "      <td>4.187186</td>\n",
       "      <td>4.172052</td>\n",
       "      <td>3.441195</td>\n",
       "    </tr>\n",
       "    <tr>\n",
       "      <th>8</th>\n",
       "      <td>3</td>\n",
       "      <td>Schindler's List (1993)</td>\n",
       "      <td>Drama|War</td>\n",
       "      <td>50054</td>\n",
       "      <td>4.310175</td>\n",
       "      <td>4.292849</td>\n",
       "      <td>3.344282</td>\n",
       "    </tr>\n",
       "  </tbody>\n",
       "</table>\n",
       "</div>"
      ],
      "text/plain": [
       "   index                                      title  \\\n",
       "0     90                        Forrest Gump (1994)   \n",
       "1      0           Shawshank Redemption, The (1994)   \n",
       "2     19           Silence of the Lambs, The (1991)   \n",
       "3    750                       Jurassic Park (1993)   \n",
       "4     14  Star Wars: Episode IV - A New Hope (1977)   \n",
       "5     81                          Braveheart (1995)   \n",
       "6    176          Terminator 2: Judgment Day (1991)   \n",
       "7     16                         Matrix, The (1999)   \n",
       "8      3                    Schindler's List (1993)   \n",
       "\n",
       "                             genres  count      mean  bayesian_avg  \\\n",
       "0          Comedy|Drama|Romance|War  66172  4.029000      4.018989   \n",
       "1                       Crime|Drama  63366  4.446990      4.431666   \n",
       "2             Crime|Horror|Thriller  63299  4.177057      4.164868   \n",
       "3  Action|Adventure|Sci-Fi|Thriller  59715  3.664741      3.658166   \n",
       "4           Action|Adventure|Sci-Fi  54502  4.190672      4.176358   \n",
       "5                  Action|Drama|War  53769  4.042534      4.030060   \n",
       "6                     Action|Sci-Fi  52244  3.931954      3.920682   \n",
       "7            Action|Sci-Fi|Thriller  51334  4.187186      4.172052   \n",
       "8                         Drama|War  50054  4.310175      4.292849   \n",
       "\n",
       "   prediction_rating  \n",
       "0           3.234988  \n",
       "1           3.842893  \n",
       "2           3.653421  \n",
       "3           2.917204  \n",
       "4           3.771194  \n",
       "5           3.474209  \n",
       "6           3.375961  \n",
       "7           3.441195  \n",
       "8           3.344282  "
      ]
     },
     "execution_count": 379,
     "metadata": {},
     "output_type": "execute_result"
    }
   ],
   "source": [
    "get_hybrid_model(0,'Godfather: Part II, The (1974)',sim , index, nn1)"
   ]
  },
  {
   "cell_type": "markdown",
   "metadata": {},
   "source": [
    "NN with user + movies features(idx , genres)"
   ]
  },
  {
   "cell_type": "code",
   "execution_count": 321,
   "metadata": {},
   "outputs": [],
   "source": [
    "df = pd.merge(df,movies_with_genres(movies_reduced), on = 'movieId')"
   ]
  },
  {
   "cell_type": "code",
   "execution_count": 322,
   "metadata": {},
   "outputs": [
    {
     "data": {
      "text/plain": [
       "Index(['new_itemid', 'new_userid', 'rating', 'timestamp', 'title_x', 'movieId',\n",
       "       'userId', 'title_y', 'genres', 'count', 'mean', 'bayesian_avg', 'Crime',\n",
       "       'Action', 'IMAX', 'Children', 'Drama', 'Musical', 'Comedy', 'Fantasy',\n",
       "       'Sci-Fi', 'Horror', 'War', 'Documentary', 'Mystery', 'Western',\n",
       "       'Romance', 'Film-Noir', 'Adventure', 'Animation', 'Thriller'],\n",
       "      dtype='object')"
      ]
     },
     "execution_count": 322,
     "metadata": {},
     "output_type": "execute_result"
    }
   ],
   "source": [
    "df.columns"
   ]
  },
  {
   "cell_type": "code",
   "execution_count": 323,
   "metadata": {},
   "outputs": [],
   "source": [
    "df = df.reindex(columns=[\"new_itemid\",\"new_userid\", \"rating\", \"timestamp\", \"title_x\", \"movieId\", \"userId\",\n",
    "                              'title_y', 'genres','count', 'mean', 'bayesian_avg', 'title_y', 'genres_y', 'Crime',\n",
    "                              'Action', 'IMAX', 'Children', 'Drama', 'Musical', 'Comedy', 'Fantasy',\n",
    "                              'Sci-Fi', 'Horror', 'War', 'Documentary', 'Mystery', 'Western',\n",
    "                              'Romance', 'Film-Noir', 'Adventure', 'Animation', 'Thriller'])"
   ]
  },
  {
   "cell_type": "code",
   "execution_count": 327,
   "metadata": {},
   "outputs": [],
   "source": [
    "df2 = df[[\"new_itemid\",\"new_userid\", \"rating\", \"timestamp\", \"movieId\", \"userId\",'Western',\n",
    "           'Romance', 'Action', 'Film-Noir', 'Animation', 'Mystery', 'Adventure',\n",
    "           'Sci-Fi',  'Thriller', 'Horror', 'War', 'Comedy','Children', 'Drama', 'Documentary', 'IMAX', \n",
    "           'Crime', 'Musical','Fantasy']]"
   ]
  },
  {
   "cell_type": "code",
   "execution_count": 329,
   "metadata": {},
   "outputs": [],
   "source": [
    "train, test = split_data_ml100k(df2, n_users, n_items, test_ratio=0.3)"
   ]
  },
  {
   "cell_type": "code",
   "execution_count": 330,
   "metadata": {},
   "outputs": [],
   "source": [
    "train_user = train['new_userid']\n",
    "test_user =  test['new_userid']\n",
    "train_movie = train[['new_itemid','Western','Romance', 'Action', 'Film-Noir', 'Animation', 'Mystery', 'Adventure'\n",
    ",'Sci-Fi','Thriller', 'Horror', 'War', 'Comedy','Children', 'Drama', 'Documentary', 'IMAX','Crime', 'Musical','Fantasy']]\n",
    "test_movie = test[['new_itemid','Western','Romance', 'Action', 'Film-Noir', 'Animation', 'Mystery', 'Adventure','Sci-Fi',\n",
    "'Thriller', 'Horror', 'War', 'Comedy','Children', 'Drama', 'Documentary', 'IMAX','Crime', 'Musical','Fantasy']]"
   ]
  },
  {
   "cell_type": "code",
   "execution_count": 336,
   "metadata": {},
   "outputs": [
    {
     "data": {
      "text/plain": [
       "20"
      ]
     },
     "execution_count": 336,
     "metadata": {},
     "output_type": "execute_result"
    }
   ],
   "source": [
    "train_movie.shape[1]"
   ]
  },
  {
   "cell_type": "code",
   "execution_count": 380,
   "metadata": {},
   "outputs": [],
   "source": [
    "reduceLr = ReduceLROnPlateau(monitor = 'val_loss',\n",
    "                             patience=3,\n",
    "                             factor = 0.9,\n",
    "                             verbose=2,\n",
    "                             mode='min')\n",
    "\n",
    "early_stopping = EarlyStopping(monitor = 'val_loss',\n",
    "                                        patience = 5,\n",
    "                                        mode = 'min',\n",
    "                                        restore_best_weights = True)"
   ]
  },
  {
   "cell_type": "code",
   "execution_count": 381,
   "metadata": {},
   "outputs": [],
   "source": [
    "def nn_model_with_genre(n_latent_factors_user, n_latent_factors_movie):\n",
    "\n",
    "    movie_input = Input(shape=[20],name='Item')\n",
    "    movie_embedding = Embedding(n_items+1 , n_latent_factors_movie,\n",
    "                                             name='Embedding_Movie')(movie_input)\n",
    "    movie_vec = Flatten(name='Flatten_Movies')(movie_embedding)\n",
    "\n",
    "    user_input = Input(shape=[1],name='User')\n",
    "    user_embedding = Embedding(n_users+1 , n_latent_factors_user * 20,\n",
    "                                             name='Embedding_User')(user_input)\n",
    "    user_vec = Flatten(name='Flatten_Users')(user_embedding)\n",
    "\n",
    "\n",
    "    concatted  = keras.layers.dot([user_vec,movie_vec],axes=1)\n",
    "\n",
    "\n",
    "    dense_1 = Dense(32 ,name='Dense_1', activation='relu')(movie_input)\n",
    "\n",
    "    concatted2 = Concatenate()([concatted, dense_1])\n",
    "    \n",
    "    result = Dense(1, activation='sigmoid',kernel_constraint=MinMaxConstraint(),name='Output')(concatted2)\n",
    "  \n",
    "    model = Model([user_input, movie_input], result)\n",
    "    model.compile(optimizer=\"adam\", loss=\"mse\",metrics = metric_rating)\n",
    "    return model"
   ]
  },
  {
   "cell_type": "code",
   "execution_count": 382,
   "metadata": {},
   "outputs": [],
   "source": [
    "model2 = nn_model_with_genre(50, 50)"
   ]
  },
  {
   "cell_type": "code",
   "execution_count": 383,
   "metadata": {},
   "outputs": [
    {
     "name": "stdout",
     "output_type": "stream",
     "text": [
      "Epoch 1/20\n",
      "9677/9677 [==============================] - 141s 14ms/step - loss: 0.0262 - metric_rating: 0.6124 - val_loss: 0.0245 - val_metric_rating: 0.5883 - lr: 0.0010\n",
      "Epoch 2/20\n",
      "9677/9677 [==============================] - 144s 15ms/step - loss: 0.0194 - metric_rating: 0.5290 - val_loss: 0.0246 - val_metric_rating: 0.5993 - lr: 0.0010\n",
      "Epoch 3/20\n",
      "9677/9677 [==============================] - 144s 15ms/step - loss: 0.0168 - metric_rating: 0.4928 - val_loss: 0.0249 - val_metric_rating: 0.6028 - lr: 0.0010\n",
      "Epoch 4/20\n",
      "9676/9677 [============================>.] - ETA: 0s - loss: 0.0151 - metric_rating: 0.4693\n",
      "Epoch 4: ReduceLROnPlateau reducing learning rate to 0.0009000000427477062.\n",
      "9677/9677 [==============================] - 147s 15ms/step - loss: 0.0151 - metric_rating: 0.4693 - val_loss: 0.0253 - val_metric_rating: 0.6028 - lr: 0.0010\n",
      "Epoch 5/20\n",
      "9677/9677 [==============================] - 150s 16ms/step - loss: 0.0139 - metric_rating: 0.4508 - val_loss: 0.0256 - val_metric_rating: 0.6094 - lr: 9.0000e-04\n",
      "Epoch 6/20\n",
      "9677/9677 [==============================] - 149s 15ms/step - loss: 0.0133 - metric_rating: 0.4415 - val_loss: 0.0253 - val_metric_rating: 0.6054 - lr: 9.0000e-04\n"
     ]
    }
   ],
   "source": [
    "history_model2 = model2.fit([train_user, train_movie], train.rating,validation_split = 0.2,epochs=20,batch_size = 50,callbacks = [reduceLr,early_stopping],verbose=1)"
   ]
  },
  {
   "cell_type": "code",
   "execution_count": 384,
   "metadata": {},
   "outputs": [],
   "source": [
    "model2.save('nn2.keras')"
   ]
  },
  {
   "cell_type": "code",
   "execution_count": 393,
   "metadata": {},
   "outputs": [],
   "source": [
    "nn2 = tf.keras.saving.load_model('nn2.keras', custom_objects={'MinMaxConstraint': MinMaxConstraint})"
   ]
  },
  {
   "cell_type": "code",
   "execution_count": 387,
   "metadata": {},
   "outputs": [
    {
     "name": "stdout",
     "output_type": "stream",
     "text": [
      "WARNING:tensorflow:5 out of the last 8106 calls to <function Model.make_predict_function.<locals>.predict_function at 0x00000169E105E8B0> triggered tf.function retracing. Tracing is expensive and the excessive number of tracings could be due to (1) creating @tf.function repeatedly in a loop, (2) passing tensors with different shapes, (3) passing Python objects instead of tensors. For (1), please define your @tf.function outside of the loop. For (2), @tf.function has reduce_retracing=True option that can avoid unnecessary retracing. For (3), please refer to https://www.tensorflow.org/guide/function#controlling_retracing and https://www.tensorflow.org/api_docs/python/tf/function for  more details.\n"
     ]
    },
    {
     "name": "stderr",
     "output_type": "stream",
     "text": [
      "WARNING:tensorflow:5 out of the last 8106 calls to <function Model.make_predict_function.<locals>.predict_function at 0x00000169E105E8B0> triggered tf.function retracing. Tracing is expensive and the excessive number of tracings could be due to (1) creating @tf.function repeatedly in a loop, (2) passing tensors with different shapes, (3) passing Python objects instead of tensors. For (1), please define your @tf.function outside of the loop. For (2), @tf.function has reduce_retracing=True option that can avoid unnecessary retracing. For (3), please refer to https://www.tensorflow.org/guide/function#controlling_retracing and https://www.tensorflow.org/api_docs/python/tf/function for  more details.\n"
     ]
    },
    {
     "name": "stdout",
     "output_type": "stream",
     "text": [
      "8119/8119 [==============================] - 9s 1ms/step\n"
     ]
    },
    {
     "data": {
      "text/html": [
       "<div>\n",
       "<style scoped>\n",
       "    .dataframe tbody tr th:only-of-type {\n",
       "        vertical-align: middle;\n",
       "    }\n",
       "\n",
       "    .dataframe tbody tr th {\n",
       "        vertical-align: top;\n",
       "    }\n",
       "\n",
       "    .dataframe thead th {\n",
       "        text-align: right;\n",
       "    }\n",
       "</style>\n",
       "<table border=\"1\" class=\"dataframe\">\n",
       "  <thead>\n",
       "    <tr style=\"text-align: right;\">\n",
       "      <th></th>\n",
       "      <th>0</th>\n",
       "    </tr>\n",
       "  </thead>\n",
       "  <tbody>\n",
       "    <tr>\n",
       "      <th>count</th>\n",
       "      <td>259778.000000</td>\n",
       "    </tr>\n",
       "    <tr>\n",
       "      <th>mean</th>\n",
       "      <td>3.733729</td>\n",
       "    </tr>\n",
       "    <tr>\n",
       "      <th>std</th>\n",
       "      <td>0.482477</td>\n",
       "    </tr>\n",
       "    <tr>\n",
       "      <th>min</th>\n",
       "      <td>0.884272</td>\n",
       "    </tr>\n",
       "    <tr>\n",
       "      <th>25%</th>\n",
       "      <td>3.447786</td>\n",
       "    </tr>\n",
       "    <tr>\n",
       "      <th>50%</th>\n",
       "      <td>3.776011</td>\n",
       "    </tr>\n",
       "    <tr>\n",
       "      <th>75%</th>\n",
       "      <td>4.065866</td>\n",
       "    </tr>\n",
       "    <tr>\n",
       "      <th>max</th>\n",
       "      <td>4.973129</td>\n",
       "    </tr>\n",
       "  </tbody>\n",
       "</table>\n",
       "</div>"
      ],
      "text/plain": [
       "                   0\n",
       "count  259778.000000\n",
       "mean        3.733729\n",
       "std         0.482477\n",
       "min         0.884272\n",
       "25%         3.447786\n",
       "50%         3.776011\n",
       "75%         4.065866\n",
       "max         4.973129"
      ]
     },
     "execution_count": 387,
     "metadata": {},
     "output_type": "execute_result"
    }
   ],
   "source": [
    "y_pred2 = model2.predict([test_user, test_movie]) * 5\n",
    "pd.DataFrame(y_pred2).describe()"
   ]
  },
  {
   "cell_type": "code",
   "execution_count": 388,
   "metadata": {},
   "outputs": [
    {
     "data": {
      "text/plain": [
       "0.5660675536465697"
      ]
     },
     "execution_count": 388,
     "metadata": {},
     "output_type": "execute_result"
    }
   ],
   "source": [
    "y_true = test.rating\n",
    "mean_absolute_error(y_true * 5, y_pred2)"
   ]
  },
  {
   "cell_type": "code",
   "execution_count": 389,
   "metadata": {},
   "outputs": [
    {
     "data": {
      "image/png": "[encoded data removed]",
      "text/plain": [
       "<Figure size 2000x800 with 2 Axes>"
      ]
     },
     "metadata": {},
     "output_type": "display_data"
    }
   ],
   "source": [
    "train_loss = history_model2.history[\"loss\"]\n",
    "val_loss = history_model2.history[\"val_loss\"]\n",
    "train_acc = history_model2.history[\"metric_rating\"]\n",
    "val_acc = history_model2.history[\"val_metric_rating\"]\n",
    "\n",
    "plt.figure(figsize = (20, 8))\n",
    "\n",
    "plt.subplot(121)\n",
    "plt.plot(train_loss)\n",
    "plt.plot(val_loss)\n",
    "plt.title('Model loss per epoch (MSE)')\n",
    "plt.ylabel('loss')\n",
    "plt.xlabel('epoch')\n",
    "plt.legend(['train', 'test'], loc='right')\n",
    "\n",
    "plt.subplot(122)\n",
    "plt.plot(train_acc)\n",
    "plt.plot(val_acc)\n",
    "plt.title('Model accuracy per epoch (MAE)')\n",
    "plt.ylabel('acc')\n",
    "plt.xlabel('epoch')\n",
    "plt.legend(['train', 'test'], loc='right')\n",
    "\n",
    "plt.show()"
   ]
  },
  {
   "cell_type": "code",
   "execution_count": 390,
   "metadata": {},
   "outputs": [
    {
     "data": {
      "image/png": "[encoded data removed]",
      "text/plain": [
       "<Figure size 640x480 with 1 Axes>"
      ]
     },
     "metadata": {},
     "output_type": "display_data"
    }
   ],
   "source": [
    "a = plt.axes(aspect='equal')\n",
    "plt.scatter(y_true * 5, y_pred2)\n",
    "plt.xlabel('True Values [rating]')\n",
    "plt.ylabel('Predictions [rating]')\n",
    "lims = [0, 5.5]\n",
    "plt.xlim(lims)\n",
    "plt.ylim(lims)\n",
    "_ = plt.plot(lims, lims)"
   ]
  },
  {
   "cell_type": "code",
   "execution_count": 391,
   "metadata": {},
   "outputs": [
    {
     "data": {
      "text/plain": [
       "<matplotlib.legend.Legend at 0x1693c5f0be0>"
      ]
     },
     "execution_count": 391,
     "metadata": {},
     "output_type": "execute_result"
    },
    {
     "data": {
      "image/png": "[encoded data removed]",
      "text/plain": [
       "<Figure size 640x480 with 1 Axes>"
      ]
     },
     "metadata": {},
     "output_type": "display_data"
    }
   ],
   "source": [
    "df_pred = pd.DataFrame(columns=['rating','pred'])\n",
    "\n",
    "df_pred['rating'] = y_true*5\n",
    "df_pred['pred'] = y_pred2\n",
    "df_pred['error'] = df_pred['rating'] - df_pred['pred']\n",
    "liste = sorted(df_pred['rating'].unique())\n",
    "\n",
    "for j in range(len(liste)):\n",
    "  plt.hist(df_pred.loc[df_pred['rating'] == liste[j], 'error'], alpha=0.5, label= liste[j])\n",
    "\n",
    "plt.title('error Distribution by rating')\n",
    "plt.xlabel('prediction error')\n",
    "plt.ylabel('Frequency')\n",
    "plt.legend(title='rating')"
   ]
  },
  {
   "cell_type": "code",
   "execution_count": 427,
   "metadata": {},
   "outputs": [],
   "source": [
    "def get_hybrid_model2(user_index,movie_title,cosine_sim,indicies,model) :\n",
    "    idx = indicies[movie_title]\n",
    "    sim_scores = list(enumerate(cosine_sim[int(idx)]))\n",
    "    sim_scores = sorted(sim_scores, key=lambda x: x[1], reverse=True)\n",
    "    sim_scores = sim_scores[1:10]\n",
    "    movie_indices = [i[0] for i in sim_scores]\n",
    "    movies = movies_with_genres(movies_reduced).iloc[movie_indices]\n",
    "    movies = movies.reset_index()\n",
    "    index_movies = df[['movieId','new_itemid']].drop_duplicates( keep='first')\n",
    "    movies = pd.merge(movies,index_movies, on = 'movieId')\n",
    "    movies['userId'] = user_index\n",
    "    movie_feat = movies[['new_itemid','Western','Romance', 'Action', 'Film-Noir', 'Animation', 'Mystery', 'Adventure',\n",
    "    'Sci-Fi','Thriller', 'Horror', 'War', 'Comedy','Children', 'Drama', 'Documentary', 'IMAX','Crime', 'Musical','Fantasy']]\n",
    "    movies['prediction_rating'] = model.predict([movies.userId, movie_feat])*5\n",
    "    movies = movies.drop(['userId','movieId','new_itemid','Western','Romance', 'Action', 'Film-Noir', 'Animation', 'Mystery', 'Adventure',\n",
    "    'Sci-Fi','Thriller', 'Horror', 'War', 'Comedy','Children', 'Drama', 'Documentary', 'IMAX','Crime', 'Musical','Fantasy'],\n",
    "     axis = 1)\n",
    "    return movies"
   ]
  },
  {
   "cell_type": "code",
   "execution_count": 428,
   "metadata": {},
   "outputs": [
    {
     "name": "stdout",
     "output_type": "stream",
     "text": [
      "1/1 [==============================] - 0s 26ms/step\n"
     ]
    },
    {
     "data": {
      "text/html": [
       "<div>\n",
       "<style scoped>\n",
       "    .dataframe tbody tr th:only-of-type {\n",
       "        vertical-align: middle;\n",
       "    }\n",
       "\n",
       "    .dataframe tbody tr th {\n",
       "        vertical-align: top;\n",
       "    }\n",
       "\n",
       "    .dataframe thead th {\n",
       "        text-align: right;\n",
       "    }\n",
       "</style>\n",
       "<table border=\"1\" class=\"dataframe\">\n",
       "  <thead>\n",
       "    <tr style=\"text-align: right;\">\n",
       "      <th></th>\n",
       "      <th>index</th>\n",
       "      <th>title</th>\n",
       "      <th>genres</th>\n",
       "      <th>count</th>\n",
       "      <th>mean</th>\n",
       "      <th>bayesian_avg</th>\n",
       "      <th>prediction_rating</th>\n",
       "    </tr>\n",
       "  </thead>\n",
       "  <tbody>\n",
       "    <tr>\n",
       "      <th>0</th>\n",
       "      <td>90</td>\n",
       "      <td>Forrest Gump (1994)</td>\n",
       "      <td>Comedy|Drama|Romance|War</td>\n",
       "      <td>66172</td>\n",
       "      <td>4.029000</td>\n",
       "      <td>4.018989</td>\n",
       "      <td>3.493243</td>\n",
       "    </tr>\n",
       "    <tr>\n",
       "      <th>1</th>\n",
       "      <td>0</td>\n",
       "      <td>Shawshank Redemption, The (1994)</td>\n",
       "      <td>Crime|Drama</td>\n",
       "      <td>63366</td>\n",
       "      <td>4.446990</td>\n",
       "      <td>4.431666</td>\n",
       "      <td>3.839168</td>\n",
       "    </tr>\n",
       "    <tr>\n",
       "      <th>2</th>\n",
       "      <td>19</td>\n",
       "      <td>Silence of the Lambs, The (1991)</td>\n",
       "      <td>Crime|Horror|Thriller</td>\n",
       "      <td>63299</td>\n",
       "      <td>4.177057</td>\n",
       "      <td>4.164868</td>\n",
       "      <td>3.762711</td>\n",
       "    </tr>\n",
       "    <tr>\n",
       "      <th>3</th>\n",
       "      <td>750</td>\n",
       "      <td>Jurassic Park (1993)</td>\n",
       "      <td>Action|Adventure|Sci-Fi|Thriller</td>\n",
       "      <td>59715</td>\n",
       "      <td>3.664741</td>\n",
       "      <td>3.658166</td>\n",
       "      <td>3.526145</td>\n",
       "    </tr>\n",
       "    <tr>\n",
       "      <th>4</th>\n",
       "      <td>14</td>\n",
       "      <td>Star Wars: Episode IV - A New Hope (1977)</td>\n",
       "      <td>Action|Adventure|Sci-Fi</td>\n",
       "      <td>54502</td>\n",
       "      <td>4.190672</td>\n",
       "      <td>4.176358</td>\n",
       "      <td>3.973159</td>\n",
       "    </tr>\n",
       "    <tr>\n",
       "      <th>5</th>\n",
       "      <td>81</td>\n",
       "      <td>Braveheart (1995)</td>\n",
       "      <td>Action|Drama|War</td>\n",
       "      <td>53769</td>\n",
       "      <td>4.042534</td>\n",
       "      <td>4.030060</td>\n",
       "      <td>3.664604</td>\n",
       "    </tr>\n",
       "    <tr>\n",
       "      <th>6</th>\n",
       "      <td>176</td>\n",
       "      <td>Terminator 2: Judgment Day (1991)</td>\n",
       "      <td>Action|Sci-Fi</td>\n",
       "      <td>52244</td>\n",
       "      <td>3.931954</td>\n",
       "      <td>3.920682</td>\n",
       "      <td>3.679294</td>\n",
       "    </tr>\n",
       "    <tr>\n",
       "      <th>7</th>\n",
       "      <td>16</td>\n",
       "      <td>Matrix, The (1999)</td>\n",
       "      <td>Action|Sci-Fi|Thriller</td>\n",
       "      <td>51334</td>\n",
       "      <td>4.187186</td>\n",
       "      <td>4.172052</td>\n",
       "      <td>3.983504</td>\n",
       "    </tr>\n",
       "    <tr>\n",
       "      <th>8</th>\n",
       "      <td>3</td>\n",
       "      <td>Schindler's List (1993)</td>\n",
       "      <td>Drama|War</td>\n",
       "      <td>50054</td>\n",
       "      <td>4.310175</td>\n",
       "      <td>4.292849</td>\n",
       "      <td>3.522725</td>\n",
       "    </tr>\n",
       "  </tbody>\n",
       "</table>\n",
       "</div>"
      ],
      "text/plain": [
       "   index                                      title  \\\n",
       "0     90                        Forrest Gump (1994)   \n",
       "1      0           Shawshank Redemption, The (1994)   \n",
       "2     19           Silence of the Lambs, The (1991)   \n",
       "3    750                       Jurassic Park (1993)   \n",
       "4     14  Star Wars: Episode IV - A New Hope (1977)   \n",
       "5     81                          Braveheart (1995)   \n",
       "6    176          Terminator 2: Judgment Day (1991)   \n",
       "7     16                         Matrix, The (1999)   \n",
       "8      3                    Schindler's List (1993)   \n",
       "\n",
       "                             genres  count      mean  bayesian_avg  \\\n",
       "0          Comedy|Drama|Romance|War  66172  4.029000      4.018989   \n",
       "1                       Crime|Drama  63366  4.446990      4.431666   \n",
       "2             Crime|Horror|Thriller  63299  4.177057      4.164868   \n",
       "3  Action|Adventure|Sci-Fi|Thriller  59715  3.664741      3.658166   \n",
       "4           Action|Adventure|Sci-Fi  54502  4.190672      4.176358   \n",
       "5                  Action|Drama|War  53769  4.042534      4.030060   \n",
       "6                     Action|Sci-Fi  52244  3.931954      3.920682   \n",
       "7            Action|Sci-Fi|Thriller  51334  4.187186      4.172052   \n",
       "8                         Drama|War  50054  4.310175      4.292849   \n",
       "\n",
       "   prediction_rating  \n",
       "0           3.493243  \n",
       "1           3.839168  \n",
       "2           3.762711  \n",
       "3           3.526145  \n",
       "4           3.973159  \n",
       "5           3.664604  \n",
       "6           3.679294  \n",
       "7           3.983504  \n",
       "8           3.522725  "
      ]
     },
     "execution_count": 428,
     "metadata": {},
     "output_type": "execute_result"
    }
   ],
   "source": [
    "get_hybrid_model2(0,'Godfather: Part II, The (1974)',sim , index, nn2)"
   ]
  }
 ],
 "metadata": {
  "kernelspec": {
   "display_name": "myenv",
   "language": "python",
   "name": "python3"
  },
  "language_info": {
   "codemirror_mode": {
    "name": "ipython",
    "version": 3
   },
   "file_extension": ".py",
   "mimetype": "text/x-python",
   "name": "python",
   "nbconvert_exporter": "python",
   "pygments_lexer": "ipython3",
   "version": "3.8.5"
  }
 },
 "nbformat": 4,
 "nbformat_minor": 2
}
